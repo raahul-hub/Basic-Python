{
 "cells": [
  {
   "cell_type": "markdown",
   "metadata": {
    "colab_type": "text",
    "id": "l0ZzOlyxB-kf"
   },
   "source": [
    "<h1>Python: without numpy or sklearn </h1>\n",
    "\n",
    "                                                                                             Created By: Rahul Dable\n",
    "                                                                                          "
   ]
  },
  {
   "cell_type": "markdown",
   "metadata": {
    "colab_type": "text",
    "id": "C0xO8JV9B-ki"
   },
   "source": [
    "<h3> Q1: Given two matrices please print the product of those two matrices </h3>\n",
    "<pre>\n",
    "\n",
    "Ex 1: A   = [[1 3 4]\n",
    "             [2 5 7]\n",
    "             [5 9 6]]\n",
    "      B   = [[1 0 0]\n",
    "             [0 1 0]\n",
    "             [0 0 1]]\n",
    "      A*B = [[1 3 4]\n",
    "             [2 5 7]\n",
    "             [5 9 6]]\n",
    "\n",
    "     \n",
    "Ex 2: A   = [[1 2]\n",
    "             [3 4]]\n",
    "      B   = [[1 2 3 4 5]\n",
    "             [5 6 7 8 9]]\n",
    "      A*B = [[11 14 17 20 23]\n",
    "             [23 30 36 42 51]]\n",
    "             \n",
    "Ex 3: A   = [[1 2]\n",
    "             [3 4]]\n",
    "      B   = [[1 4]\n",
    "             [5 6]\n",
    "             [7 8]\n",
    "             [9 6]]\n",
    "      A*B =Not possible\n",
    "</pre>"
   ]
  },
  {
   "cell_type": "markdown",
   "metadata": {},
   "source": [
    "#### Solution:"
   ]
  },
  {
   "cell_type": "code",
   "execution_count": 1,
   "metadata": {
    "colab": {},
    "colab_type": "code",
    "id": "rnssAfpgB-kj"
   },
   "outputs": [],
   "source": [
    "# reference: https://www.geeksforgeeks.org/multiplication-two-matrices-single-line-using-numpy-python/\n",
    "\n",
    "def matrix_mul(A:'First Matric', \n",
    "               B:'Second Matric') -> 'Returns Multiplication':\n",
    "    \n",
    "    if len(A[0]) == len(B):\n",
    "        result = [[0 for x in range(len(B[0]))] for y in range(len(A))]\n",
    "        for i in range(len(A)):\n",
    "            for j in range(len(B[0])):\n",
    "                for k in range(len(B)):\n",
    "                    result[i][j] += int(A[i][k] * B[k][j])\n",
    "        print(result)\n",
    "    else:\n",
    "        print(\"Matrix Multiplication is NOT Possible\")"
   ]
  },
  {
   "cell_type": "code",
   "execution_count": 2,
   "metadata": {},
   "outputs": [
    {
     "name": "stdout",
     "output_type": "stream",
     "text": [
      "[[41, 49], [71, 85]]\n"
     ]
    }
   ],
   "source": [
    "A  = [[1, 3, 4],\n",
    "     [2, 5, 7]]\n",
    "\n",
    "B   = [ [1, 2],\n",
    "        [4, 5],\n",
    "        [7, 8]]\n",
    "\n",
    "matrix_mul(A, B)"
   ]
  },
  {
   "cell_type": "code",
   "execution_count": 3,
   "metadata": {},
   "outputs": [
    {
     "name": "stdout",
     "output_type": "stream",
     "text": [
      "[[11, 14, 17, 20, 23], [23, 30, 37, 44, 51]]\n"
     ]
    }
   ],
   "source": [
    "A = [[1, 2],\n",
    "    [3, 4]]\n",
    "\n",
    "B = [[1, 2, 3, 4, 5],\n",
    "    [5, 6, 7, 8, 9]]\n",
    "        \n",
    "matrix_mul(A, B)"
   ]
  },
  {
   "cell_type": "code",
   "execution_count": 4,
   "metadata": {},
   "outputs": [
    {
     "name": "stdout",
     "output_type": "stream",
     "text": [
      "[[1, 3, 4], [2, 5, 7], [5, 9, 6]]\n"
     ]
    }
   ],
   "source": [
    "A   = [[1, 3, 4],\n",
    "        [2, 5, 7],\n",
    "        [5, 9, 6]]\n",
    "    \n",
    "B   = [[1, 0, 0,],\n",
    "        [0, 1, 0,],\n",
    "        [0, 0, 1,]]\n",
    "\n",
    "matrix_mul(A, B)"
   ]
  },
  {
   "cell_type": "code",
   "execution_count": 5,
   "metadata": {},
   "outputs": [
    {
     "name": "stdout",
     "output_type": "stream",
     "text": [
      "Matrix Multiplication is NOT Possible\n"
     ]
    }
   ],
   "source": [
    "A = [[1, 2],\n",
    "     [3, 4]]\n",
    "\n",
    "B = [[1, 4],\n",
    "     [5, 6],\n",
    "     [7, 8],\n",
    "     [9, 6]]\n",
    "\n",
    "matrix_mul(A, B)"
   ]
  },
  {
   "cell_type": "markdown",
   "metadata": {},
   "source": [
    "_________"
   ]
  },
  {
   "cell_type": "markdown",
   "metadata": {
    "colab_type": "text",
    "id": "at4VwLggB-kn"
   },
   "source": [
    "<h3> Q2: Select a number randomly with probability proportional to its magnitude from the given array of n elements</h3>\n",
    "\n",
    "consider an experiment, selecting an element from the list A randomly with probability proportional to its magnitude.\n",
    "assume we are doing the same experiment for 100 times with replacement, in each experiment you will print a number that is selected randomly from A.\n",
    "\n",
    "<pre>\n",
    "Ex 1: A = [0 5 27 6 13 28 100 45 10 79]\n",
    "let f(x) denote the number of times x getting selected in 100 experiments.\n",
    "f(100) > f(79) > f(45) > f(28) > f(27) > f(13) > f(10) > f(6) > f(5) > f(0)\n",
    "</pre>"
   ]
  },
  {
   "cell_type": "markdown",
   "metadata": {},
   "source": [
    "#### Solution:"
   ]
  },
  {
   "cell_type": "code",
   "execution_count": 6,
   "metadata": {},
   "outputs": [],
   "source": [
    "A = [0, 5, 27, 6, 13, 28, 100, 45, 10, 79, 150]"
   ]
  },
  {
   "cell_type": "code",
   "execution_count": 7,
   "metadata": {
    "colab": {},
    "colab_type": "code",
    "id": "B6S2dpBhB-kn"
   },
   "outputs": [
    {
     "name": "stdout",
     "output_type": "stream",
     "text": [
      "[79, 150, 45, 150, 45, 79, 79, 79, 79, 27, 150, 28, 45, 79, 79, 28, 13, 79, 28, 10, 28, 150, 100, 150, 45, 5, 79, 10, 150, 150, 150, 79, 45, 79, 150, 28, 10, 150, 150, 150, 150, 45, 100, 79, 27, 150, 150, 45, 100, 150, 27, 150, 45, 150, 13, 150, 79, 100, 45, 10, 6, 150, 28, 150, 79, 150, 150, 79, 150, 100, 27, 79, 79, 150, 150, 150, 100, 79, 79, 79, 10, 100, 45, 28, 150, 45, 28, 150, 27, 150, 150, 100, 79, 79, 150, 45, 28, 150, 150, 28]\n",
      "==================================================\n",
      "number 150 : frequency 34 \n",
      "number 100 : frequency 8 \n",
      "number 79 : frequency 22 \n",
      "number 45 : frequency 12 \n",
      "number 28 : frequency 10 \n",
      "number 27 : frequency 5 \n",
      "number 13 : frequency 2 \n",
      "number 10 : frequency 5 \n",
      "number 6 : frequency 1 \n",
      "number 5 : frequency 1 \n"
     ]
    }
   ],
   "source": [
    "import random\n",
    "from collections import Counter, OrderedDict\n",
    "\n",
    "def pick_a_number_from_list(A:\"List of random numbers\") -> 'Returns random numbers with prob. propertional to its magntude':\n",
    "    \n",
    "    #Caclulating Normalised Cummalitive Sum\n",
    "    A_sum = sum(A)\n",
    "    A_sum_norm = [ele/A_sum for ele in A]\n",
    "    A_norm_cumsum = []\n",
    "    cumsum = 0\n",
    "    for ele in A_sum_norm:\n",
    "        cumsum += ele\n",
    "        A_norm_cumsum.append(cumsum)\n",
    "    \n",
    "    #selecting random number\n",
    "    #selected_number = 0\n",
    "    rand_num_index = random.uniform(0.0, 1.0)\n",
    "    for ele in range(len(A_norm_cumsum)):\n",
    "        if rand_num_index < A_norm_cumsum[ele]:\n",
    "            selected_number = A[ele]\n",
    "            break\n",
    "    return selected_number\n",
    "\n",
    "number_of_sampled = 100\n",
    "\n",
    "sampled_numbers = []\n",
    "def sampling_based_on_magnitude():\n",
    "    for i in range(number_of_sampled):\n",
    "        sampled_numbers.append(pick_a_number_from_list(A))\n",
    "    return print(sampled_numbers)\n",
    "    \n",
    "sampling_based_on_magnitude()\n",
    "\n",
    "print('='*50)\n",
    "\n",
    "output = dict(Counter(sampled_numbers))\n",
    "output = OrderedDict(sorted(output.items(), reverse=True))\n",
    "for key, values in output.items():\n",
    "    print(\"number {0} : frequency {1} \".format(key, values))"
   ]
  },
  {
   "cell_type": "markdown",
   "metadata": {},
   "source": [
    "___________"
   ]
  },
  {
   "cell_type": "markdown",
   "metadata": {
    "colab_type": "text",
    "id": "D1xQy2WWB-kq"
   },
   "source": [
    "<h3> Q3: Replace the digits in the string with #</h3>\n",
    "\n",
    "consider a string that will have digits in that, we need to remove all the not digits and replace the digits with #\n",
    "<pre>\n",
    "Ex 1: A = 234                Output: ###\n",
    "Ex 2: A = a2b3c4             Output: ###\n",
    "Ex 3: A = abc                Output:   (empty string)\n",
    "Ex 5: A = #2a$#b%c%561#      Output: ####\n",
    "</pre>"
   ]
  },
  {
   "cell_type": "markdown",
   "metadata": {},
   "source": [
    "#### Solution:"
   ]
  },
  {
   "cell_type": "code",
   "execution_count": 8,
   "metadata": {
    "colab": {},
    "colab_type": "code",
    "id": "fxczi2jzB-kr"
   },
   "outputs": [],
   "source": [
    "import re\n",
    "\n",
    "pattern1 = r'\\D'\n",
    "pattern2 = r'\\d'\n",
    "\n",
    "def replace_digits(myString:'Input String'):\n",
    "    myString = re.sub(pattern1, '', myString)\n",
    "    myString = re.sub(pattern2, '#', myString)\n",
    "    return myString\n"
   ]
  },
  {
   "cell_type": "code",
   "execution_count": 9,
   "metadata": {},
   "outputs": [
    {
     "data": {
      "text/plain": [
       "['###', '###', '', '####']"
      ]
     },
     "execution_count": 9,
     "metadata": {},
     "output_type": "execute_result"
    }
   ],
   "source": [
    "list_of_Strings = ['234', 'a2b3c4', 'abc', '#2a$#b%c%561#']\n",
    "output = list(map(replace_digits, list_of_Strings ))\n",
    "output"
   ]
  },
  {
   "cell_type": "code",
   "execution_count": 10,
   "metadata": {},
   "outputs": [
    {
     "name": "stdout",
     "output_type": "stream",
     "text": [
      "234 => ### \n",
      "a2b3c4 => ### \n",
      "abc =>  \n",
      "#2a$#b%c%561# => #### \n"
     ]
    }
   ],
   "source": [
    "list_of_Strings = ['234', 'a2b3c4', 'abc', '#2a$#b%c%561#']\n",
    "output = list(map(replace_digits, list_of_Strings ))\n",
    "output = dict(zip(list_of_Strings, output))\n",
    "for key, values in output.items():\n",
    "    print(\"{0} => {1} \".format(key, values))"
   ]
  },
  {
   "cell_type": "markdown",
   "metadata": {},
   "source": [
    "________"
   ]
  },
  {
   "cell_type": "markdown",
   "metadata": {
    "colab_type": "text",
    "id": "j7h0Ywg7B-kw"
   },
   "source": [
    "<h3> Q4: Students marks dashboard</h3>\n",
    "\n",
    "consider the marks list of class students given two lists <br>\n",
    "Students = ['student1','student2','student3','student4','student5','student6','student7','student8','student9','student10'] <br>\n",
    "Marks = [45, 78, 12, 14, 48, 43, 45, 98, 35, 80] <br>\n",
    "from the above two lists the Student[0] got Marks[0],  Student[1] got Marks[1] and so on <br><br>\n",
    "your task is to print the name of students\n",
    "<strong>a. Who got top 5 ranks, in the descending order of marks</strong> <br>\n",
    "<strong>b. Who got least 5 ranks, in the increasing order of marks</strong><br>\n",
    "<strong>d. Who got marks between  &gt;25th percentile &lt;75th percentile, in the increasing order of marks</strong>\n",
    "\n",
    "<pre>\n",
    "Ex 1: \n",
    "Students=['student1','student2','student3','student4','student5','student6','student7','student8','student9','student10'] \n",
    "Marks = [45, 78, 12, 14, 48, 43, 47, 98, 35, 80]\n",
    "a. \n",
    "student8  98\n",
    "student10 80\n",
    "student2  78\n",
    "student5  48\n",
    "student7  47\n",
    "b.\n",
    "student3 12\n",
    "student4 14\n",
    "student9 35\n",
    "student6 43\n",
    "student1 45\n",
    "c.\n",
    "student9 35\n",
    "student6 43\n",
    "student1 45\n",
    "student7 47\n",
    "student5 48\n",
    "</pre>"
   ]
  },
  {
   "cell_type": "markdown",
   "metadata": {},
   "source": [
    "#### Solution:"
   ]
  },
  {
   "cell_type": "code",
   "execution_count": 11,
   "metadata": {},
   "outputs": [],
   "source": [
    "Students=['student1','student2','student3','student4','student5','student6','student7','student8','student9','student10']\n",
    "Marks = [45, 78, 12, 14, 48, 43, 47, 98, 35, 80]"
   ]
  },
  {
   "cell_type": "code",
   "execution_count": 31,
   "metadata": {
    "colab": {},
    "colab_type": "code",
    "id": "cxPJgItsB-kx"
   },
   "outputs": [],
   "source": [
    "def compute_percentile(Marks:'List of Marks obtained by students', \n",
    "                       percentile:'Percentile value to compute') -> 'Returns percentile value':\n",
    "    \n",
    "    m = int(round(percentile * len(Marks)))\n",
    "    return Marks[m-1]\n",
    "\n",
    "def display_dash_board(Students:'List of Students', \n",
    "                       Marks:'List of Marks') -> 'Display Dashboard':\n",
    "    \n",
    "    marklists = dict(zip(Marks, Students))\n",
    "    \n",
    "    #Computing Top 5 Students\n",
    "    Marks_descending = sorted(Marks, reverse=True)\n",
    "    top_5_students = [marklists[x] for x in Marks_descending[0:5]]\n",
    "    \n",
    "    #Computing least 5 Students\n",
    "    Marks_ascending = sorted(Marks, reverse=False)\n",
    "    least_5_students = [marklists[x] for x in Marks_ascending[0:5]]\n",
    "    \n",
    "    #students_within_25_and_75 = # compute this\n",
    "    \n",
    "    Marks_within_25_and_75 = []\n",
    "    for marks in Marks_ascending:\n",
    "        if marks > compute_percentile(Marks_ascending, 0.25) and marks < compute_percentile(Marks_ascending, 0.75):\n",
    "            Marks_within_25_and_75.append(marks)\n",
    "    students_within_25_and_75 = [marklists[x] for x in Marks_within_25_and_75]\n",
    "\n",
    "    \n",
    "   #return  print(\"Top 5 Students\",top_5_students) , print(\"least 5 Students\",least_5_students), print(students_within_25_and_75)\n",
    "    return  top_5_students , least_5_students, students_within_25_and_75\n",
    "\n",
    "top_5_students, least_5_students, students_within_25_and_75 = display_dash_board(Students, Marks)\n"
   ]
  },
  {
   "cell_type": "code",
   "execution_count": 32,
   "metadata": {},
   "outputs": [
    {
     "name": "stdout",
     "output_type": "stream",
     "text": [
      "Name of Top 5 Students are   : ['student8', 'student10', 'student2', 'student5', 'student7']\n",
      "Name of least 5 Students are : ['student3', 'student4', 'student9', 'student6', 'student1']\n",
      "Name of Students within 25 - 75 percentile range are : ['student9', 'student6', 'student1', 'student7', 'student5']\n"
     ]
    }
   ],
   "source": [
    "print(\"Name of Top 5 Students are   :\" ,top_5_students)\n",
    "print(\"Name of least 5 Students are :\" ,least_5_students)\n",
    "print(\"Name of Students within 25 - 75 percentile range are :\" ,students_within_25_and_75)"
   ]
  },
  {
   "cell_type": "markdown",
   "metadata": {},
   "source": [
    "__________"
   ]
  },
  {
   "cell_type": "markdown",
   "metadata": {
    "colab_type": "text",
    "id": "qha0OhQHB-k1"
   },
   "source": [
    "<h3> Q5: Find the closest points</h3>\n",
    "\n",
    "consider you have given n data points in the form of list of tuples like S=[(x1,y1),(x2,y2),(x3,y3),(x4,y4),(x5,y5),..,(xn,yn)] and a point P=(p,q) <br> your task is to find 5 closest points(based on cosine distance) in S from P\n",
    "<br>cosine distance between two points (x,y) and (p,q) is defind as $cos^{-1}(\\frac{(x\\cdot p+y\\cdot q)}{\\sqrt(x^2+y^2)\\cdot\\sqrt(p^2+q^2)})$\n",
    "<pre>\n",
    "Ex:\n",
    "\n",
    "S= [(1,2),(3,4),(-1,1),(6,-7),(0, 6),(-5,-8),(-1,-1)(6,0),(1,-1)]\n",
    "P= (3,-4)\n",
    "<img src='https://i.imgur.com/vIFPOcG.jpg', width=300>\n",
    "Output:\n",
    "(6,-7)\n",
    "(1,-1)\n",
    "(6,0)\n",
    "(-5,-8)\n",
    "(-1,-1)\n",
    "</pre>"
   ]
  },
  {
   "cell_type": "markdown",
   "metadata": {},
   "source": [
    "#### Solution:"
   ]
  },
  {
   "cell_type": "code",
   "execution_count": 14,
   "metadata": {},
   "outputs": [],
   "source": [
    "S = [(1,2), (3,4), (-1,1), (6,-7), (0, 6), (-5,-8), (-1,-1), (6,0), (1,-1)]\n",
    "P = [(3,-4)]"
   ]
  },
  {
   "cell_type": "code",
   "execution_count": 15,
   "metadata": {
    "colab": {},
    "colab_type": "code",
    "id": "wA5I1g-2B-k2"
   },
   "outputs": [
    {
     "name": "stdout",
     "output_type": "stream",
     "text": [
      "Five Closest Points are :  [(6, -7), (1, -1), (6, 0), (-5, -8), (-1, -1)]\n"
     ]
    }
   ],
   "source": [
    "import math\n",
    "\n",
    "def compute_cosine_dist(first_point:'List of surrounding points', \n",
    "                        another_point: 'Point from where need to calculate distance')-> 'Returns Cosine Distance':\n",
    "\n",
    "    #Calculate Cosine Distance\n",
    "    num = first_point[0]*another_point[0] + first_point[1]*another_point[1] \n",
    "    denom = math.sqrt((math.pow(first_point[0], 2) + (math.pow(first_point[1], 2)))) * \\\n",
    "            math.sqrt((math.pow(another_point[0], 2) + (math.pow(another_point[1], 2))))\n",
    "\n",
    "    cosine_dist = math.acos(num/denom)\n",
    "    return cosine_dist\n",
    "\n",
    "another_point = list(P[0])\n",
    "cosine_distances = []\n",
    "for first_point in S:\n",
    "    #print(first_point)\n",
    "    cosine_dist = compute_cosine_dist(first_point, another_point)\n",
    "    #print(cosine_dist)\n",
    "    cosine_distances.append(cosine_dist)\n",
    "#print(cosine_distances)\n",
    "\n",
    "#creating dict to lookup points according to their distance\n",
    "cosine_distances_dict = dict(zip(cosine_distances, S))\n",
    "#cosine_distances_dict = dict(OrderedDict(sorted(cosine_distances_dict.items(), reverse = False)))\n",
    "#print(cosine_distances_dict)\n",
    "\n",
    "#Selecting 5 closest points\n",
    "cosine_distances = sorted(cosine_distances, reverse= False)\n",
    "closest_5_distance = cosine_distances[0:5]\n",
    "#print(closest_5_points)\n",
    "\n",
    "#selecting closest 5 points\n",
    "closest_5_points = [cosine_distances_dict[pts] for pts in closest_5_distance]\n",
    "print(\"Five Closest Points are : \", closest_5_points)"
   ]
  },
  {
   "cell_type": "markdown",
   "metadata": {},
   "source": [
    "_________"
   ]
  },
  {
   "cell_type": "markdown",
   "metadata": {
    "colab_type": "text",
    "id": "-g11jeAiB-k5"
   },
   "source": [
    "<h3> Q6: Find Which line separates oranges and apples</h3>\n",
    "consider you have given two set of data points in the form of list of tuples like \n",
    "<pre>\n",
    "Red =[(R11,R12),(R21,R22),(R31,R32),(R41,R42),(R51,R52),..,(Rn1,Rn2)]\n",
    "Blue=[(B11,B12),(B21,B22),(B31,B32),(B41,B42),(B51,B52),..,(Bm1,Bm2)]\n",
    "</pre>\n",
    "and set of line equations(in the string formate, i.e list of strings)\n",
    "<pre>\n",
    "Lines = [a1x+b1y+c1,a2x+b2y+c2,a3x+b3y+c3,a4x+b4y+c4,..,K lines]\n",
    "Note: you need to string parsing here and get the coefficients of x,y and intercept\n",
    "</pre>\n",
    "your task is to for each line that is given print \"YES\"/\"NO\", you will print yes, if all the red points are one side of the line and blue points are other side of the line, otherwise no\n",
    "<pre>\n",
    "Ex:\n",
    "Red= [(1,1),(2,1),(4,2),(2,4), (-1,4)]\n",
    "Blue= [(-2,-1),(-1,-2),(-3,-2),(-3,-1),(1,-3)]\n",
    "Lines=[\"1x+1y+0\",\"1x-1y+0\",\"1x+0y-3\",\"0x+1y-0.5\"]\n",
    "<img src='https://i.imgur.com/DoQf7mE.jpg' width=400>\n",
    "Output:\n",
    "YES\n",
    "NO\n",
    "NO\n",
    "YES\n",
    "</pre>"
   ]
  },
  {
   "cell_type": "markdown",
   "metadata": {},
   "source": [
    "#### Solution:"
   ]
  },
  {
   "cell_type": "code",
   "execution_count": 16,
   "metadata": {},
   "outputs": [],
   "source": [
    "Red= [(1,1),(2,1),(4,2),(2,4), (-1,4)]\n",
    "Blue= [(-2,-1),(-1,-2),(-3,-2),(-3,-1),(1,-3)]\n",
    "Lines=[\"1x+1y+0\",\"1x-1y+0\",\"1x+0y-3\",\"0x+1y-0.5\"]"
   ]
  },
  {
   "cell_type": "code",
   "execution_count": 17,
   "metadata": {
    "colab": {},
    "colab_type": "code",
    "id": "eRxExaTRB-k6"
   },
   "outputs": [],
   "source": [
    "import math\n",
    "import re\n",
    "\n",
    "def compute_dist(line:'Select One Line', \n",
    "                 pt:'Select any point') -> 'Returns Distance of point from given line':\n",
    "    distance = (line[0]*pt[0] + line[1]*pt[1] + line[2]) / math.sqrt(math.pow(line[0],2) + math.pow(line[1],2))\n",
    "    return distance   \n",
    "    \n",
    "\n",
    "def point_classifier(Red:\"List of points belongs to first category\", \n",
    "                     Blue:\"List of points belongs to another category\", \n",
    "                     Lines:\"List of given lines\") -> \"Returns if the line classify the points correctly\":\n",
    "    \n",
    "    #String Parsing\n",
    "    results = []\n",
    "    lines_coeff = []\n",
    "    pattern = r'[^a-zA-Z]+'\n",
    "    for line in Lines:\n",
    "        line_coordinates = [float(d) for d in re.findall(pattern, line)]\n",
    "        #print(line, line_coordinates)\n",
    "        lines_coeff.append(line_coordinates)\n",
    "\n",
    "    #print(\"Lines Coordinates Are : \", lines_coeff)\n",
    "    #print(\"=\"*80)\n",
    "\n",
    "    for i in range(len(Lines)):\n",
    "        red_distances = []\n",
    "        blue_distances = []\n",
    "        line = lines_coeff[i]\n",
    "        #print(\"line :\", i+1)\n",
    "        #print(\"Distance of points from the line \", Lines[i])\n",
    "\n",
    "        for red_pt in Red:\n",
    "            pt = list(red_pt)\n",
    "            red_dist = compute_dist(line, pt)\n",
    "            red_distances.append(red_dist)\n",
    "        #print(\"Red Points Dist\", red_distances)\n",
    "\n",
    "        for blue_pt in Blue:\n",
    "            pt = list(blue_pt)\n",
    "            blue_dist = compute_dist(line, pt)\n",
    "            blue_distances.append(blue_dist)\n",
    "        #print(\"Blue Points Dist\", blue_distances)\n",
    "    \n",
    "        #Checking if all points from same category lies on same side of the line\n",
    "        red_test = []\n",
    "        for ele in red_distances:\n",
    "            if  ele > 0:\n",
    "                #result = 1\n",
    "                red_test.append(1)\n",
    "            else:\n",
    "                red_test.append(-1)\n",
    "            #print(red_test)\n",
    "\n",
    "        blue_test = []\n",
    "        for ele in blue_distances:\n",
    "            if  ele > 0:\n",
    "                #result = 1\n",
    "                blue_test.append(1)\n",
    "            else:\n",
    "                blue_test.append(-1)\n",
    "            #print(blue_test)\n",
    "\n",
    "        if len(set(red_test)) == 1 and len(set(blue_test)) == 1: \n",
    "            if red_test[0] != blue_test[0]:\n",
    "                result = 'Yes'\n",
    "                results.append(result)\n",
    "            else:\n",
    "                result = 'No'\n",
    "                results.append(result)\n",
    "        else:\n",
    "            result = 'No'\n",
    "            results.append(result)\n",
    "        #print(\"=\"*80)\n",
    "    return results\n",
    "    \n",
    "    "
   ]
  },
  {
   "cell_type": "code",
   "execution_count": 18,
   "metadata": {},
   "outputs": [
    {
     "name": "stdout",
     "output_type": "stream",
     "text": [
      "Output :\n",
      "{'1x+1y+0': 'Yes', '1x-1y+0': 'No', '1x+0y-3': 'No', '0x+1y-0.5': 'Yes'}\n"
     ]
    }
   ],
   "source": [
    "output = point_classifier(Red, Blue, Lines)\n",
    "print(\"Output :\")\n",
    "print(dict(zip(Lines, output)))"
   ]
  },
  {
   "cell_type": "markdown",
   "metadata": {},
   "source": [
    "_________"
   ]
  },
  {
   "cell_type": "markdown",
   "metadata": {
    "colab_type": "text",
    "id": "9OBpURbNB-k9"
   },
   "source": [
    "<h3> Q7: Filling the missing values in the specified formate</h3>\n",
    "You will be given a string with digits and '\\_'(missing value) symbols you have to replace the '\\_' symbols as explained \n",
    "<pre>\n",
    "Ex 1: _, _, _, 24 ==> 24/4, 24/4, 24/4, 24/4 i.e we. have distributed the 24 equally to all 4 places <br>\n",
    "Ex 2: 40, _, _, _, 60 ==> (60+40)/5,(60+40)/5,(60+40)/5,(60+40)/5,(60+40)/5 ==> 20, 20, 20, 20, 20 i.e. the sum of (60+40) is distributed qually to all 5 places<br>\n",
    "Ex 3: 80, _, _, _, _  ==> 80/5,80/5,80/5,80/5,80/5 ==> 16, 16, 16, 16, 16 i.e. the 80 is distributed qually to all 5 missing values that are right to it<br>\n",
    "Ex 4: _, _, 30, _, _, _, 50, _, _  \n",
    "==> we will fill the missing values from left to right \n",
    "    a. first we will distribute the 30 to left two missing values (10, 10, 10, _, _, _, 50, _, _)\n",
    "    b. now distribute the sum (10+50) missing values in between (10, 10, 12, 12, 12, 12, 12, _, _) \n",
    "    c. now we will distribute 12 to right side missing values (10, 10, 12, 12, 12, 12, 4, 4, 4)\n",
    "</pre>\n",
    "for a given string with comma seprate values, which will have both missing values numbers like ex: \"_, _, x, _, _, _\"\n",
    "you need fill the missing values\n",
    "\n",
    "Q: your program reads a string like ex: \"_, _, x, _, _, _\" and returns the filled sequence\n",
    "\n",
    "Ex: \n",
    "<pre>\n",
    "Input1: \"_,_,_,24\"\n",
    "Output1: 6,6,6,6\n",
    "\n",
    "Input2: \"40,_,_,_,60\"\n",
    "Output2: 20,20,20,20,20\n",
    "\n",
    "Input3: \"80,_,_,_,_\"\n",
    "Output3: 16,16,16,16,16\n",
    "\n",
    "Input4: \"_,_,30,_,_,_,50,_,_\"\n",
    "Output4: 10,10,12,12,12,12,4,4,4\n",
    "</pre>\n",
    "\n"
   ]
  },
  {
   "cell_type": "markdown",
   "metadata": {},
   "source": [
    "#### Solution:"
   ]
  },
  {
   "cell_type": "code",
   "execution_count": 19,
   "metadata": {},
   "outputs": [],
   "source": [
    "import re\n",
    "\n",
    "def curve_smoothing(input_str:'Input String') -> 'Return filled values':\n",
    "    \n",
    "    #String Parsing\n",
    "    pattern = r\"\\,\"\n",
    "    input_str = re.sub(pattern, ' ', input_str)\n",
    "    input_str = input_str.split()\n",
    "    \n",
    "    #replacing missing values with 0 and converting string into integer\n",
    "    for i in range(len(input_str)):\n",
    "        try:\n",
    "            input_str[i] = int(input_str[i])\n",
    "        except:\n",
    "            input_str[i] = 0\n",
    "\n",
    "    #We have two types of pattern, applying specific rules as per pattern\n",
    "    \n",
    "    if input_str[0] or input_str[-1] != 0:\n",
    "        sum_ = sum(input_str)\n",
    "        output = [int(sum_/len(input_str)) for ele in input_str]\n",
    "    \n",
    "    else:\n",
    "        output = []\n",
    "        for i in range(len(input_str)):\n",
    "            if input_str[i] == 0:\n",
    "                output.append(input_str[i])\n",
    "            else:\n",
    "                update = int(input_str[i]/(i+1))\n",
    "                output.append(update)\n",
    "                break\n",
    "        output = [int(update) if ele == 0 else ele for ele in output]\n",
    "\n",
    "        for j in range(i+1, len(input_str), 1):\n",
    "            if input_str[j] == 0:\n",
    "                output.append(input_str[j])\n",
    "            else:\n",
    "                update2 = (update + input_str[j])/(j-1)\n",
    "                output.append(int(update2))\n",
    "                break\n",
    "        output = [int(update2) if ele == 0 else ele for ele in output]\n",
    "\n",
    "        count = 0\n",
    "        for k in range(j+1,len(input_str),1):   \n",
    "            if input_str[k]==0:\n",
    "                output[j] = 0\n",
    "                input_str[k-1] == 0\n",
    "                output.append(input_str[k])\n",
    "                count +=1\n",
    "\n",
    "        update3 = int(update2/(count+1))\n",
    "        output = [int(update3) if ele == 0 else ele for ele in output]\n",
    "\n",
    "    return output\n",
    "    "
   ]
  },
  {
   "cell_type": "code",
   "execution_count": 20,
   "metadata": {},
   "outputs": [],
   "source": [
    "given_strings = [\"_,_,_,24\", \"40,_,_,_,60\", \"80,_,_,_,_\", \"_,_,30,_,_,_,50,_,_\"]"
   ]
  },
  {
   "cell_type": "code",
   "execution_count": 21,
   "metadata": {},
   "outputs": [
    {
     "name": "stdout",
     "output_type": "stream",
     "text": [
      "[6, 6, 6, 6]\n",
      "[20, 20, 20, 20, 20]\n",
      "[16, 16, 16, 16, 16]\n",
      "[10, 10, 10, 12, 12, 12, 4, 4, 4]\n"
     ]
    }
   ],
   "source": [
    "output_ = map(curve_smoothing, given_strings)\n",
    "for i in output_:\n",
    "    print(i)"
   ]
  },
  {
   "cell_type": "markdown",
   "metadata": {},
   "source": [
    "_________"
   ]
  },
  {
   "cell_type": "markdown",
   "metadata": {
    "colab_type": "text",
    "id": "RBz4pzlfB-lB"
   },
   "source": [
    "<h3> Q8: Filling the missing values in the specified formate</h3>\n",
    "You will be given a list of lists, each sublist will be of length 2 i.e. [[x,y],[p,q],[l,m]..[r,s]]\n",
    "consider its like a martrix of n rows and two columns\n",
    "1. the first column F will contain only 5 uniques values (F1, F2, F3, F4, F5)\n",
    "2. the second column S will contain only 3 uniques values (S1, S2, S3)\n",
    "<pre>\n",
    "your task is to find\n",
    "a. Probability of P(F=F1|S==S1), P(F=F1|S==S2), P(F=F1|S==S3)\n",
    "b. Probability of P(F=F2|S==S1), P(F=F2|S==S2), P(F=F2|S==S3)\n",
    "c. Probability of P(F=F3|S==S1), P(F=F3|S==S2), P(F=F3|S==S3)\n",
    "d. Probability of P(F=F4|S==S1), P(F=F4|S==S2), P(F=F4|S==S3)\n",
    "e. Probability of P(F=F5|S==S1), P(F=F5|S==S2), P(F=F5|S==S3)\n",
    "</pre>\n",
    "Ex:\n",
    "\n",
    "<pre>\n",
    "[[F1,S1],[F2,S2],[F3,S3],[F1,S2],[F2,S3],[F3,S2],[F2,S1],[F4,S1],[F4,S3],[F5,S1]]\n",
    "\n",
    "a. P(F=F1|S==S1)=1/4, P(F=F1|S==S2)=1/3, P(F=F1|S==S3)=0/3\n",
    "b. P(F=F2|S==S1)=1/4, P(F=F2|S==S2)=1/3, P(F=F2|S==S3)=1/3\n",
    "c. P(F=F3|S==S1)=0/4, P(F=F3|S==S2)=1/3, P(F=F3|S==S3)=1/3\n",
    "d. P(F=F4|S==S1)=1/4, P(F=F4|S==S2)=0/3, P(F=F4|S==S3)=1/3\n",
    "e. P(F=F5|S==S1)=1/4, P(F=F5|S==S2)=0/3, P(F=F5|S==S3)=0/3\n",
    "</pre>\n",
    "\n",
    "\n"
   ]
  },
  {
   "cell_type": "markdown",
   "metadata": {},
   "source": [
    "#### Solution:"
   ]
  },
  {
   "cell_type": "code",
   "execution_count": 22,
   "metadata": {},
   "outputs": [],
   "source": [
    "data = [['F1','S1'],['F2','S2'],['F3','S3'],['F1','S2'],['F2','S3'],['F3','S2'],['F2','S1'],['F4','S1'],['F4','S3'],['F5','S1']]"
   ]
  },
  {
   "cell_type": "code",
   "execution_count": 23,
   "metadata": {},
   "outputs": [],
   "source": [
    "import itertools\n",
    "def compute_conditional_probabilites(data:'Input list of list') -> 'Returns conditional prob of all possible combinations':\n",
    "    #calculating unique first and second element\n",
    "    first_element = []\n",
    "    second_element = []\n",
    "    for ele in data:\n",
    "        first_element.append(ele[0])\n",
    "        second_element.append(ele[1])\n",
    "    \n",
    "    #listing and sorting first unique elements\n",
    "    first_element = list(set(first_element))\n",
    "    first_element.sort(reverse=False)\n",
    "    \n",
    "    #listing and sorting second unique elements\n",
    "    second_element = list(set(second_element))\n",
    "    second_element.sort(reverse=False)\n",
    "\n",
    "    #calculating occurance of second element\n",
    "    denoms= []\n",
    "    for i in range(len(second_element)):\n",
    "        denom = 0\n",
    "        for j in range(len(data)):\n",
    "            if data[j][1] == second_element[i]:\n",
    "                denom += 1\n",
    "        denoms.append(denom)\n",
    "    \n",
    "    second_ele_freq = dict(zip(second_element, denoms))\n",
    "\n",
    "    #calculating frequency of ocurance of all possible combinations\n",
    "    all_possible_combinations = list(itertools.product(first_element, second_element))\n",
    "    combination_freq = []\n",
    "    for ele in all_possible_combinations:\n",
    "        counter_ = 0\n",
    "        for data_ele in data:\n",
    "            if list(data_ele) == list(ele):\n",
    "                counter_ += 1 \n",
    "        combination_freq.append(counter_)\n",
    "\n",
    "    combination_freq_dict = dict(zip(all_possible_combinations, combination_freq))\n",
    "    \n",
    "    #Calculating conditional probability\n",
    "    cond_prob = []\n",
    "    for ele_ in all_possible_combinations:\n",
    "        prob = round(combination_freq_dict.get(ele_)/second_ele_freq[list(ele_)[1]], 2)\n",
    "        cond_prob.append(prob)\n",
    "        a = second_ele_freq[list(ele_)[1]]\n",
    "        b = combination_freq_dict.get(ele_)\n",
    "        #print('{}/{} '.format(b,a))\n",
    "        #print(\"F={0}|S={1}  \".format(ele_[0], ele_[1]))\n",
    "        print(\"probability of (F={0}|S={1}) = {2}/{3}  ({4}) \".format(ele_[0], ele_[1], b, a, prob))\n",
    "    #return all_possible_combinations, a, b, prob\n",
    "    "
   ]
  },
  {
   "cell_type": "code",
   "execution_count": 24,
   "metadata": {
    "scrolled": true
   },
   "outputs": [
    {
     "name": "stdout",
     "output_type": "stream",
     "text": [
      "probability of (F=F1|S=S1) = 1/4  (0.25) \n",
      "probability of (F=F1|S=S2) = 1/3  (0.33) \n",
      "probability of (F=F1|S=S3) = 0/3  (0.0) \n",
      "probability of (F=F2|S=S1) = 1/4  (0.25) \n",
      "probability of (F=F2|S=S2) = 1/3  (0.33) \n",
      "probability of (F=F2|S=S3) = 1/3  (0.33) \n",
      "probability of (F=F3|S=S1) = 0/4  (0.0) \n",
      "probability of (F=F3|S=S2) = 1/3  (0.33) \n",
      "probability of (F=F3|S=S3) = 1/3  (0.33) \n",
      "probability of (F=F4|S=S1) = 1/4  (0.25) \n",
      "probability of (F=F4|S=S2) = 0/3  (0.0) \n",
      "probability of (F=F4|S=S3) = 1/3  (0.33) \n",
      "probability of (F=F5|S=S1) = 1/4  (0.25) \n",
      "probability of (F=F5|S=S2) = 0/3  (0.0) \n",
      "probability of (F=F5|S=S3) = 0/3  (0.0) \n"
     ]
    }
   ],
   "source": [
    "compute_conditional_probabilites(data)"
   ]
  },
  {
   "cell_type": "markdown",
   "metadata": {},
   "source": [
    "___________"
   ]
  },
  {
   "cell_type": "markdown",
   "metadata": {
    "colab_type": "text",
    "id": "n4HS87QmB-lF"
   },
   "source": [
    "<h3> Q9: Given two sentances S1, S2</h3>\n",
    "You will be given two sentances S1, S2 your task is to find \n",
    "<pre>\n",
    "a. Number of common words between S1, S2\n",
    "b. Words in S1 but not in S2\n",
    "c. Words in S2 but not in S1\n",
    "</pre>\n",
    "\n",
    "Ex: \n",
    "<pre>\n",
    "S1= \"the first column F will contain only 5 uniques values\"\n",
    "S2= \"the second column S will contain only 3 uniques values\"\n",
    "Output:\n",
    "a. 7\n",
    "b. ['first','F','5']\n",
    "c. ['second','S','3']\n",
    "</pre>"
   ]
  },
  {
   "cell_type": "markdown",
   "metadata": {},
   "source": [
    "#### Solution:"
   ]
  },
  {
   "cell_type": "code",
   "execution_count": 25,
   "metadata": {
    "colab": {},
    "colab_type": "code",
    "id": "Ez7hlHK0B-lG"
   },
   "outputs": [],
   "source": [
    "def string_features(S1:'First input string', \n",
    "                    S2:'Second input string') -> 'Returns Desirable words and count':\n",
    "    \n",
    "    #Creating set of all unique words\n",
    "    S1_words = set(S1.split())\n",
    "    S2_words = set(S2.split())\n",
    "    word_dict = S1_words.union(S2_words)\n",
    "    \n",
    "    #All unique words in S1 and S2\n",
    "    unique_words = list(S1_words.union(S2_words))\n",
    "    \n",
    "    #Number of common words between S1, S2\n",
    "    common_words = len(list(S1_words.intersection(S2_words)))\n",
    "    \n",
    "    #Words in S1 but not in S2\n",
    "    \n",
    "    words_in_S1 = list(word_dict.symmetric_difference(S2_words))\n",
    "    \n",
    "    #Words in S2 but not in S1\n",
    "    words_in_S2 = list(word_dict.symmetric_difference(S1_words))\n",
    "\n",
    "    return common_words, words_in_S1, words_in_S2\n"
   ]
  },
  {
   "cell_type": "code",
   "execution_count": 26,
   "metadata": {},
   "outputs": [
    {
     "name": "stdout",
     "output_type": "stream",
     "text": [
      "Number of common words between S1, S2 : 7\n",
      "Words in S1 but not in S2             : ['5', 'first', 'F']\n",
      "Words in S2 but not in S1             : ['3', 'S', 'second']\n"
     ]
    }
   ],
   "source": [
    "S1= \"the first column F will contain only 5 uniques values\"\n",
    "S2= \"the second column S will contain only 3 uniques values\"\n",
    "\n",
    "common_words, words_in_S1, words_in_S2 = string_features(S1, S2)\n",
    "\n",
    "print(\"Number of common words between S1, S2 :\", common_words)\n",
    "print(\"Words in S1 but not in S2             :\", words_in_S1)\n",
    "print(\"Words in S2 but not in S1             :\", words_in_S2)"
   ]
  },
  {
   "cell_type": "markdown",
   "metadata": {},
   "source": [
    "__________"
   ]
  },
  {
   "cell_type": "markdown",
   "metadata": {
    "colab_type": "text",
    "id": "XefXVEjCB-lI"
   },
   "source": [
    "<h3> Q10: Given two sentances S1, S2</h3>\n",
    "You will be given a list of lists, each sublist will be of length 2 i.e. [[x,y],[p,q],[l,m]..[r,s]]\n",
    "consider its like a martrix of n rows and two columns\n",
    "\n",
    "a. the first column Y will contain interger values <br>\n",
    "b. the second column $Y_{score}$ will be having float values <br>\n",
    "Your task is to find the value of $f(Y,Y_{score}) = -1*\\frac{1}{n}\\Sigma_{for each Y,Y_{score} pair}(Ylog10(Y_{score})+(1-Y)log10(1-Y_{score}))$ here n is the number of rows in the matrix\n",
    "<pre>\n",
    "Ex:\n",
    "[[1, 0.4], [0, 0.5], [0, 0.9], [0, 0.3], [0, 0.6], [1, 0.1], [1, 0.9], [1, 0.8]]\n",
    "output:\n",
    "0.4243099\n",
    "</pre>\n",
    "$\\frac{-1}{8}\\cdot((1\\cdot log_{10}(0.4)+0\\cdot log_{10}(0.6))+(0\\cdot log_{10}(0.5)+1\\cdot log_{10}(0.5)) + ... + (1\\cdot log_{10}(0.8)+0\\cdot log_{10}(0.2)) )$"
   ]
  },
  {
   "cell_type": "markdown",
   "metadata": {},
   "source": [
    "#### Solution:"
   ]
  },
  {
   "cell_type": "code",
   "execution_count": 48,
   "metadata": {
    "colab": {},
    "colab_type": "code",
    "id": "N9zkagyNB-lJ"
   },
   "outputs": [],
   "source": [
    "def compute_log_loss(X):\n",
    "    sub_sum = 0\n",
    "\n",
    "    for sublist in X:\n",
    "        sub_x = sublist[0]*(math.log10(sublist[1])) + (1 - sublist[0])*(math.log10(1-sublist[1]))\n",
    "        sub_sum += sub_x\n",
    "        loss = -(sub_sum)/len(X)\n",
    "    return loss"
   ]
  },
  {
   "cell_type": "code",
   "execution_count": 49,
   "metadata": {},
   "outputs": [
    {
     "name": "stdout",
     "output_type": "stream",
     "text": [
      "0.42430993457031635\n"
     ]
    }
   ],
   "source": [
    "X = [[1, 0.4], [0, 0.5], [0, 0.9], [0, 0.3], [0, 0.6], [1, 0.1], [1, 0.9], [1, 0.8]]\n",
    "loss = compute_log_loss(X)\n",
    "print(loss)"
   ]
  },
  {
   "cell_type": "code",
   "execution_count": null,
   "metadata": {},
   "outputs": [],
   "source": []
  }
 ],
 "metadata": {
  "colab": {
   "collapsed_sections": [],
   "name": "1.Python Assignment.ipynb",
   "provenance": []
  },
  "kernelspec": {
   "display_name": "Python 3",
   "language": "python",
   "name": "python3"
  },
  "language_info": {
   "codemirror_mode": {
    "name": "ipython",
    "version": 3
   },
   "file_extension": ".py",
   "mimetype": "text/x-python",
   "name": "python",
   "nbconvert_exporter": "python",
   "pygments_lexer": "ipython3",
   "version": "3.6.5"
  }
 },
 "nbformat": 4,
 "nbformat_minor": 1
}
